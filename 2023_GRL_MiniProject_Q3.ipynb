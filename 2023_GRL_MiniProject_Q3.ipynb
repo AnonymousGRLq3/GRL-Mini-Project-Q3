{
  "nbformat": 4,
  "nbformat_minor": 0,
  "metadata": {
    "colab": {
      "provenance": [],
      "authorship_tag": "ABX9TyOulUnqIp5qUawTqQMOtlHe",
      "include_colab_link": true
    },
    "kernelspec": {
      "name": "python3",
      "display_name": "Python 3"
    },
    "language_info": {
      "name": "python"
    }
  },
  "cells": [
    {
      "cell_type": "markdown",
      "metadata": {
        "id": "view-in-github",
        "colab_type": "text"
      },
      "source": [
        "<a href=\"https://colab.research.google.com/github/AnonymousGRLq3/GRL-Mini-Project-Q3/blob/main/2023_GRL_MiniProject_Q3.ipynb\" target=\"_parent\"><img src=\"https://colab.research.google.com/assets/colab-badge.svg\" alt=\"Open In Colab\"/></a>"
      ]
    },
    {
      "cell_type": "markdown",
      "source": [
        "# **GRL Mini-project Question 3 - Michaelmas term 2023**"
      ],
      "metadata": {
        "id": "f3mTiCY6oEeN"
      }
    },
    {
      "cell_type": "markdown",
      "source": [
        "Edit the code block below to the download the version of torch installed on this system"
      ],
      "metadata": {
        "id": "wWmKXoHxoQDt"
      }
    },
    {
      "cell_type": "code",
      "execution_count": null,
      "metadata": {
        "colab": {
          "base_uri": "https://localhost:8080/"
        },
        "id": "6OurHgp0UENr",
        "outputId": "79b07fc9-a998-4881-ad77-80c5b8741724"
      },
      "outputs": [
        {
          "output_type": "stream",
          "name": "stdout",
          "text": [
            "env: TORCH=2.1.0+cu118\n",
            "Looking in links: https://data.pyg.org/whl/torch-2.1.0+cu118.html\n",
            "Collecting torch-scatter\n",
            "  Downloading https://data.pyg.org/whl/torch-2.1.0%2Bcu118/torch_scatter-2.1.2%2Bpt21cu118-cp310-cp310-linux_x86_64.whl (10.2 MB)\n",
            "\u001b[2K     \u001b[90m━━━━━━━━━━━━━━━━━━━━━━━━━━━━━━━━━━━━━━━━\u001b[0m \u001b[32m10.2/10.2 MB\u001b[0m \u001b[31m20.4 MB/s\u001b[0m eta \u001b[36m0:00:00\u001b[0m\n",
            "\u001b[?25hInstalling collected packages: torch-scatter\n",
            "Successfully installed torch-scatter-2.1.2+pt21cu118\n",
            "Looking in links: https://data.pyg.org/whl/torch-2.1.0+cu118.html\n",
            "Collecting torch-sparse\n",
            "  Downloading https://data.pyg.org/whl/torch-2.1.0%2Bcu118/torch_sparse-0.6.18%2Bpt21cu118-cp310-cp310-linux_x86_64.whl (4.9 MB)\n",
            "\u001b[2K     \u001b[90m━━━━━━━━━━━━━━━━━━━━━━━━━━━━━━━━━━━━━━━━\u001b[0m \u001b[32m4.9/4.9 MB\u001b[0m \u001b[31m23.3 MB/s\u001b[0m eta \u001b[36m0:00:00\u001b[0m\n",
            "\u001b[?25hRequirement already satisfied: scipy in /usr/local/lib/python3.10/dist-packages (from torch-sparse) (1.11.4)\n",
            "Requirement already satisfied: numpy<1.28.0,>=1.21.6 in /usr/local/lib/python3.10/dist-packages (from scipy->torch-sparse) (1.23.5)\n",
            "Installing collected packages: torch-sparse\n",
            "Successfully installed torch-sparse-0.6.18+pt21cu118\n",
            "Collecting torch-geometric\n",
            "  Downloading torch_geometric-2.4.0-py3-none-any.whl (1.0 MB)\n",
            "\u001b[2K     \u001b[90m━━━━━━━━━━━━━━━━━━━━━━━━━━━━━━━━━━━━━━━━\u001b[0m \u001b[32m1.0/1.0 MB\u001b[0m \u001b[31m6.9 MB/s\u001b[0m eta \u001b[36m0:00:00\u001b[0m\n",
            "\u001b[?25hRequirement already satisfied: tqdm in /usr/local/lib/python3.10/dist-packages (from torch-geometric) (4.66.1)\n",
            "Requirement already satisfied: numpy in /usr/local/lib/python3.10/dist-packages (from torch-geometric) (1.23.5)\n",
            "Requirement already satisfied: scipy in /usr/local/lib/python3.10/dist-packages (from torch-geometric) (1.11.4)\n",
            "Requirement already satisfied: jinja2 in /usr/local/lib/python3.10/dist-packages (from torch-geometric) (3.1.2)\n",
            "Requirement already satisfied: requests in /usr/local/lib/python3.10/dist-packages (from torch-geometric) (2.31.0)\n",
            "Requirement already satisfied: pyparsing in /usr/local/lib/python3.10/dist-packages (from torch-geometric) (3.1.1)\n",
            "Requirement already satisfied: scikit-learn in /usr/local/lib/python3.10/dist-packages (from torch-geometric) (1.2.2)\n",
            "Requirement already satisfied: psutil>=5.8.0 in /usr/local/lib/python3.10/dist-packages (from torch-geometric) (5.9.5)\n",
            "Requirement already satisfied: MarkupSafe>=2.0 in /usr/local/lib/python3.10/dist-packages (from jinja2->torch-geometric) (2.1.3)\n",
            "Requirement already satisfied: charset-normalizer<4,>=2 in /usr/local/lib/python3.10/dist-packages (from requests->torch-geometric) (3.3.2)\n",
            "Requirement already satisfied: idna<4,>=2.5 in /usr/local/lib/python3.10/dist-packages (from requests->torch-geometric) (3.6)\n",
            "Requirement already satisfied: urllib3<3,>=1.21.1 in /usr/local/lib/python3.10/dist-packages (from requests->torch-geometric) (2.0.7)\n",
            "Requirement already satisfied: certifi>=2017.4.17 in /usr/local/lib/python3.10/dist-packages (from requests->torch-geometric) (2023.11.17)\n",
            "Requirement already satisfied: joblib>=1.1.1 in /usr/local/lib/python3.10/dist-packages (from scikit-learn->torch-geometric) (1.3.2)\n",
            "Requirement already satisfied: threadpoolctl>=2.0.0 in /usr/local/lib/python3.10/dist-packages (from scikit-learn->torch-geometric) (3.2.0)\n",
            "Installing collected packages: torch-geometric\n",
            "Successfully installed torch-geometric-2.4.0\n"
          ]
        }
      ],
      "source": [
        "%env TORCH=2.1.0+cu118\n",
        "!pip install torch-scatter -f https://data.pyg.org/whl/torch-${TORCH}.html\n",
        "!pip install torch-sparse -f https://data.pyg.org/whl/torch-${TORCH}.html\n",
        "!pip install torch-geometric"
      ]
    },
    {
      "cell_type": "code",
      "source": [
        "import torch\n",
        "import torch.nn as nn\n",
        "import numpy as np\n",
        "import torch.nn.functional as F\n",
        "import networkx as nx\n",
        "import matplotlib.pyplot as plt\n",
        "import random\n",
        "import copy"
      ],
      "metadata": {
        "id": "SWPnb_W1otKK"
      },
      "execution_count": null,
      "outputs": []
    },
    {
      "cell_type": "markdown",
      "source": [
        "# Model Construction"
      ],
      "metadata": {
        "id": "rBYwazWExJVB"
      }
    },
    {
      "cell_type": "markdown",
      "source": [
        "GNNLayer is a standard MPNN layer with an additional auxillery term which computes either nothing at all, the implicit edge message, or the connected component message depending on the layer_type."
      ],
      "metadata": {
        "id": "r41piMWhxPu9"
      }
    },
    {
      "cell_type": "code",
      "source": [
        "class GNNLayer(nn.Module):\n",
        "\n",
        "    def __init__(self, layer_type, input_dim, output_dim):\n",
        "      super().__init__()\n",
        "      self.input_dim = input_dim\n",
        "      self.output_dim = output_dim\n",
        "      self.layer_type = layer_type\n",
        "\n",
        "      self.W_self = nn.Linear(input_dim, output_dim, bias=True)\n",
        "      self.W_neigh = nn.Linear(input_dim, output_dim, bias=False)\n",
        "      if layer_type != 'standard':\n",
        "        self.W_aux = nn.Linear(input_dim, output_dim, bias=False)\n",
        "\n",
        "    def forward(self, node_feats, adj_matrix, aux_matrix = None):\n",
        "      if aux_matrix == None or self.layer_type == 'standard':\n",
        "        X = self.W_self(node_feats) + self.W_neigh(adj_matrix @ node_feats)\n",
        "      else:\n",
        "        X = self.W_self(node_feats) + self.W_neigh(adj_matrix @ node_feats) + self.W_aux(aux_matrix @ node_feats)\n",
        "      return X"
      ],
      "metadata": {
        "id": "JEE3tPwQqXMt"
      },
      "execution_count": null,
      "outputs": []
    },
    {
      "cell_type": "markdown",
      "source": [
        "GNN stacks num_layer GNNLayers with hidden dimension hidden_dim, output dimension g_output_dim, and layer_type set as model_type. Then, a pooling function is applied to produce a graph representation, and an MLP is applied to the graph representation. The depth and width of the MLP is specified by MLP_depth and MLP_hid_dim, and the final output dimension of the entire model is specified by num_classes."
      ],
      "metadata": {
        "id": "MUgz2_VOyCpp"
      }
    },
    {
      "cell_type": "code",
      "source": [
        "class GNN(nn.Module):\n",
        "\n",
        "    def __init__(self, model_type, input_dim, hidden_dim, g_output_dim, num_classes, num_layers=2, act_fn=nn.ReLU, pooling = \"sum\", MLP_depth = 1, MLP_hid_dim=6):\n",
        "      super().__init__()\n",
        "      self.input_dim = input_dim\n",
        "      self.hidden_dim = hidden_dim\n",
        "      self.g_output_dim = g_output_dim\n",
        "      self.num_layers = num_layers\n",
        "      self.act_fn = act_fn()\n",
        "      self.pooling = pooling\n",
        "      self.MLP_depth = MLP_depth\n",
        "      self.MLP_hid_dim = MLP_hid_dim\n",
        "      self.model_type = model_type\n",
        "\n",
        "      self.GNN_layers = nn.ModuleList()\n",
        "      self.MLP_layers = nn.ModuleList()\n",
        "\n",
        "      if num_layers == 1:\n",
        "        self.GNN_layers.append(GNNLayer(model_type, input_dim, g_output_dim))\n",
        "      else:\n",
        "        ph_in = input_dim\n",
        "        ph_out = hidden_dim\n",
        "        for i in range(num_layers):\n",
        "          if i == 1:\n",
        "            ph_in = hidden_dim\n",
        "          if i == (num_layers - 1):\n",
        "            ph_out = g_output_dim\n",
        "          self.GNN_layers.append(GNNLayer(model_type, ph_in, ph_out))\n",
        "\n",
        "      if MLP_depth == 1:\n",
        "        self.MLP_layers.append(nn.Linear(g_output_dim, num_classes))\n",
        "      else:\n",
        "        ph_in = g_output_dim\n",
        "        ph_out = MLP_hid_dim\n",
        "        for i in range(MLP_depth):\n",
        "          if i == 1:\n",
        "            ph_in = MLP_hid_dim\n",
        "          if i == (MLP_depth - 1):\n",
        "            ph_out = num_classes\n",
        "          self.MLP_layers.append(nn.Linear(ph_in, ph_out))\n",
        "\n",
        "    def forward(self, x, adj_matrix, aux_matrix = None):\n",
        "      for l in self.GNN_layers:\n",
        "        x = self.act_fn(l(x, adj_matrix, aux_matrix = aux_matrix))\n",
        "      if self.pooling == \"sum\":\n",
        "        x = torch.sum(x, dim=0)\n",
        "      elif self.pooling == \"mean\":\n",
        "        x = torch.mean(x, dim=0)\n",
        "      elif self.pooling == \"max\":\n",
        "        x = torch.max(x,0)[0]\n",
        "      for i in range(self.MLP_depth - 1):\n",
        "        x = self.act_fn(self.MLP_layers[i](x))\n",
        "      x = self.MLP_layers[-1](x)\n",
        "      return x"
      ],
      "metadata": {
        "id": "fce3z84MqXw6"
      },
      "execution_count": null,
      "outputs": []
    },
    {
      "cell_type": "markdown",
      "source": [
        "We declare hyperparameters."
      ],
      "metadata": {
        "id": "xkH-JyUpzCPl"
      }
    },
    {
      "cell_type": "code",
      "source": [
        "params = {\n",
        "    \"input_dim\" : 15,\n",
        "    \"hidden_dim\": 25,\n",
        "    \"MLP_depth\": 3,\n",
        "    \"MLP_hid_dim\": 10,\n",
        "    \"g_output_dim\" : 15,\n",
        "    \"num_classes\" :  10,\n",
        "    \"act_fn\" : nn.ReLU,\n",
        "    \"pooling\" : \"sum\",\n",
        "    \"num_layers\": 2,\n",
        "    \"learning_rate\": 1e-4,\n",
        "    \"batch_size\" : 1500,\n",
        "    \"batch_shuffle\": True,\n",
        "    \"num_epochs\": 500,\n",
        "    \"beta\": 0.4\n",
        "}"
      ],
      "metadata": {
        "id": "B-Rt-Nz-pj7Z"
      },
      "execution_count": null,
      "outputs": []
    },
    {
      "cell_type": "markdown",
      "source": [
        "We initialize three models: standard_model is an MPNN with standard neighborhood message aggregation, implicit_model is an MPNN with neighborhood message passing as well as additional weighted message passing along implicit edges computed by s_katz, and connected_model is an MPNN with neighborhood message passing as well as additional message passing from non-neighbors in the connected component."
      ],
      "metadata": {
        "id": "WyHQflFTzqyK"
      }
    },
    {
      "cell_type": "code",
      "source": [
        "standard_model = GNN(\"standard\", params[\"input_dim\"], params[\"hidden_dim\"], params[\"g_output_dim\"], params[\"num_classes\"],\n",
        "                    num_layers = params[\"num_layers\"], act_fn = params[\"act_fn\"], pooling = params[\"pooling\"], MLP_depth = params[\"MLP_depth\"], MLP_hid_dim = params[\"MLP_hid_dim\"])"
      ],
      "metadata": {
        "id": "s1grhOXcq3YJ"
      },
      "execution_count": null,
      "outputs": []
    },
    {
      "cell_type": "code",
      "source": [
        "implicit_model = GNN(\"implicit\", params[\"input_dim\"], params[\"hidden_dim\"], params[\"g_output_dim\"], params[\"num_classes\"],\n",
        "                    num_layers = params[\"num_layers\"], act_fn = params[\"act_fn\"], pooling = params[\"pooling\"], MLP_depth = params[\"MLP_depth\"], MLP_hid_dim = params[\"MLP_hid_dim\"])"
      ],
      "metadata": {
        "id": "hTzGD7a-gMFc"
      },
      "execution_count": null,
      "outputs": []
    },
    {
      "cell_type": "code",
      "source": [
        "connected_model = GNN(\"connected\", params[\"input_dim\"], params[\"hidden_dim\"], params[\"g_output_dim\"], params[\"num_classes\"],\n",
        "                    num_layers = params[\"num_layers\"], act_fn = params[\"act_fn\"], pooling = params[\"pooling\"], MLP_depth = params[\"MLP_depth\"], MLP_hid_dim = params[\"MLP_hid_dim\"])"
      ],
      "metadata": {
        "id": "KP6olBVpgOWV"
      },
      "execution_count": null,
      "outputs": []
    },
    {
      "cell_type": "markdown",
      "source": [
        "# Dataset Construction"
      ],
      "metadata": {
        "id": "NRzrWCC816DI"
      }
    },
    {
      "cell_type": "markdown",
      "source": [
        "s_katz computes the Katz global overlap statistic of a graph given its adjacency matrix.\n",
        "\n",
        "impl_edges filters the katz index matrix so that diagonal entries and entires corresponding to a nodes neighbors are set to zero (i.e we only output Katz index measures for each nodes non-neighbors).\n",
        "\n",
        "conn_comp takes in a nx graph and outputs a matrix that indicates each nodes non-neighbors within the node's connected component."
      ],
      "metadata": {
        "id": "ivDjyeth19f2"
      }
    },
    {
      "cell_type": "code",
      "source": [
        "def s_katz(adj_matrix, beta):\n",
        "  d = len(adj_matrix)\n",
        "  I = torch.eye(d)\n",
        "  S = torch.inverse(I - (beta * adj_matrix)) - I\n",
        "  return S\n",
        "\n",
        "def impl_edges(adj_matrix, beta):\n",
        "  d = len(adj_matrix)\n",
        "  I = torch.eye(d)\n",
        "  S = s_katz(adj_matrix, beta)\n",
        "  ones = torch.ones((d, d))\n",
        "  indicator = ones - adj_matrix - I\n",
        "  return S * indicator\n",
        "\n",
        "def conn_comp(graph):\n",
        "  connected_comps = list(nx.connected_components(graph))\n",
        "  d = nx.number_of_nodes(graph)\n",
        "  I = torch.eye(d)\n",
        "  A = torch.tensor(nx.to_numpy_array(graph)).float()\n",
        "  C = torch.zeros((d,d))\n",
        "  for comp in connected_comps:\n",
        "    lcomp = list(comp)\n",
        "    for node in lcomp:\n",
        "      C[node][lcomp] = 1\n",
        "  return C-I-A"
      ],
      "metadata": {
        "id": "J0L_JyJP1RKj"
      },
      "execution_count": null,
      "outputs": []
    },
    {
      "cell_type": "markdown",
      "source": [
        "cycle_lengthes generates all the integer partitions of n that do not include 1 or 2 (no graph with less than 3 nodes can be a cycle graph).\n",
        "\n",
        "gen_cycle_graphs generates all graphs on n nodes that can be expressed as a disjoint union of cycle graphs (using the cycle lengthes determined by cycle_lengthes).\n",
        "\n",
        "display_cycle_graphs can be used to plot the graphs generated by gen_cycle_graphs for a certain n.\n",
        "\n",
        "gen_cycle_dataset generates the dataset we will train our models on: each datapoint in the generated set consists of a node features matrix (all initial feature vectors are set to 1^d), an adjacency matrix, an implicit edge matrix (Katz index filtered to only include non-neighbors), a connected component matrix, and a target label which corresponds to the number of connected components in the graph. The dataset contains such datapoints for all disjoint unions of cycle graphs on n nodes for every n in the interval [n_start, n_end]. gen_cycle_dataset also outputs a vector that expresses how many graphs in the dataset fall into each target class.\n",
        "\n",
        "display_datapoint plots the graph corresponding to a particular datapoint in a generated dataset, as well as printing the initial node features, adjacency matrix, implicit edge matrix, connected component matrix, and target label."
      ],
      "metadata": {
        "id": "NJ_7NGyx4MLv"
      }
    },
    {
      "cell_type": "code",
      "source": [
        "def cycle_lengthes(n):\n",
        "    def int_parts(n):\n",
        "        if n == 0:\n",
        "            yield []\n",
        "            return\n",
        "        for p in int_parts(n - 1):\n",
        "            yield [1] + p\n",
        "            if len(p) > 0 and (len(p) == 1 or p[1] > p[0]):\n",
        "                yield [p[0] + 1] + p[1:]\n",
        "    filtered = []\n",
        "    for p in list(int_parts(n)):\n",
        "      if 1 not in p and 2 not in p:\n",
        "        filtered.append(p)\n",
        "    return filtered\n",
        "\n",
        "def gen_cycle_graphs(n):\n",
        "  partitions = cycle_lengthes(n)\n",
        "  graphs = []\n",
        "  for lengthes in partitions:\n",
        "    components = []\n",
        "    for length in lengthes:\n",
        "      components.append(nx.cycle_graph(length))\n",
        "    graphs.append(nx.disjoint_union_all(components))\n",
        "  return graphs\n",
        "\n",
        "def display_cycle_graphs(n):\n",
        "  graphs = gen_cycle_graphs(n)\n",
        "  for i in range(len(graphs)):\n",
        "      plt.figure()\n",
        "      plt.title(f\"Graph {i+1}\")\n",
        "      nx.draw(graphs[i], with_labels=True, node_color='skyblue', font_weight='bold')\n",
        "      plt.show()\n",
        "\n",
        "def gen_cycle_dataset(n_start, n_end, d=4):\n",
        "  dataset = []\n",
        "  max_partitions = cycle_lengthes(n_end)\n",
        "  num_comps = []\n",
        "  for part in max_partitions:\n",
        "    num_comps.append(len(part))\n",
        "  n_classes = max(num_comps)\n",
        "  y_count = torch.zeros(n_classes)\n",
        "  for n in range(n_start, n_end+1):\n",
        "    graphs = gen_cycle_graphs(n)\n",
        "    for graph in graphs:\n",
        "      X = torch.ones((n, d))\n",
        "      A = torch.tensor(nx.to_numpy_array(graph)).float()\n",
        "      Impl_mat = impl_edges(A,params[\"beta\"])\n",
        "      Comp_mat = conn_comp(graph)\n",
        "      y = torch.zeros(n_classes)\n",
        "      c = nx.number_connected_components(graph)-1\n",
        "      y[c] = 1\n",
        "      y_count[c] += 1\n",
        "      dataset.append({'X':X, 'A': A ,'Impl_mat': Impl_mat,\"Comp_mat\": Comp_mat, 'y': y})\n",
        "\n",
        "  return dataset, y_count, y_count/torch.sum(y_count).item()\n",
        "\n",
        "def display_datapoint(dataset, n):\n",
        "  datapoint = dataset[n]\n",
        "  G = nx.from_numpy_array(datapoint['A'].numpy())\n",
        "  X = datapoint['X']\n",
        "  A = datapoint['A']\n",
        "  Impl_mat = datapoint['Impl_mat']\n",
        "  Comp_mat = datapoint['Comp_mat']\n",
        "  y = datapoint['y']\n",
        "  nx.draw(G, with_labels=True, node_color='skyblue', font_weight='bold')\n",
        "  plt.show\n",
        "  print(f\"Node features: {X}\")\n",
        "  print(f\"Adjacency matrix: {A}\")\n",
        "  print(f\"Implicit matrx: {Impl_mat}\")\n",
        "  print(f\"Connected component matrix: {Comp_mat}\")\n",
        "  print(f\"Class: {y}\")"
      ],
      "metadata": {
        "id": "28QoFtmeqxpP"
      },
      "execution_count": null,
      "outputs": []
    },
    {
      "cell_type": "markdown",
      "source": [
        "We generate out dataset."
      ],
      "metadata": {
        "id": "c1H1Tm4n-mVV"
      }
    },
    {
      "cell_type": "code",
      "source": [
        "dataset, class_count, class_dist = gen_cycle_dataset(6,30, d=params[\"input_dim\"])"
      ],
      "metadata": {
        "id": "aWf_1_4JpCe_"
      },
      "execution_count": null,
      "outputs": []
    },
    {
      "cell_type": "markdown",
      "source": [
        "We display a datapoint to check that our dataset is properly generated."
      ],
      "metadata": {
        "id": "O8JdWk-T-x9d"
      }
    },
    {
      "cell_type": "code",
      "source": [
        "display_datapoint(dataset,200)"
      ],
      "metadata": {
        "id": "pXN0OyWprFTY",
        "colab": {
          "base_uri": "https://localhost:8080/",
          "height": 1000
        },
        "outputId": "bd91643f-0f35-4446-bfe6-c5a033e35a4d"
      },
      "execution_count": null,
      "outputs": [
        {
          "output_type": "stream",
          "name": "stdout",
          "text": [
            "Node features: tensor([[1., 1., 1., 1., 1., 1., 1., 1., 1., 1., 1., 1., 1., 1., 1.],\n",
            "        [1., 1., 1., 1., 1., 1., 1., 1., 1., 1., 1., 1., 1., 1., 1.],\n",
            "        [1., 1., 1., 1., 1., 1., 1., 1., 1., 1., 1., 1., 1., 1., 1.],\n",
            "        [1., 1., 1., 1., 1., 1., 1., 1., 1., 1., 1., 1., 1., 1., 1.],\n",
            "        [1., 1., 1., 1., 1., 1., 1., 1., 1., 1., 1., 1., 1., 1., 1.],\n",
            "        [1., 1., 1., 1., 1., 1., 1., 1., 1., 1., 1., 1., 1., 1., 1.],\n",
            "        [1., 1., 1., 1., 1., 1., 1., 1., 1., 1., 1., 1., 1., 1., 1.],\n",
            "        [1., 1., 1., 1., 1., 1., 1., 1., 1., 1., 1., 1., 1., 1., 1.],\n",
            "        [1., 1., 1., 1., 1., 1., 1., 1., 1., 1., 1., 1., 1., 1., 1.],\n",
            "        [1., 1., 1., 1., 1., 1., 1., 1., 1., 1., 1., 1., 1., 1., 1.],\n",
            "        [1., 1., 1., 1., 1., 1., 1., 1., 1., 1., 1., 1., 1., 1., 1.],\n",
            "        [1., 1., 1., 1., 1., 1., 1., 1., 1., 1., 1., 1., 1., 1., 1.],\n",
            "        [1., 1., 1., 1., 1., 1., 1., 1., 1., 1., 1., 1., 1., 1., 1.],\n",
            "        [1., 1., 1., 1., 1., 1., 1., 1., 1., 1., 1., 1., 1., 1., 1.],\n",
            "        [1., 1., 1., 1., 1., 1., 1., 1., 1., 1., 1., 1., 1., 1., 1.],\n",
            "        [1., 1., 1., 1., 1., 1., 1., 1., 1., 1., 1., 1., 1., 1., 1.],\n",
            "        [1., 1., 1., 1., 1., 1., 1., 1., 1., 1., 1., 1., 1., 1., 1.],\n",
            "        [1., 1., 1., 1., 1., 1., 1., 1., 1., 1., 1., 1., 1., 1., 1.],\n",
            "        [1., 1., 1., 1., 1., 1., 1., 1., 1., 1., 1., 1., 1., 1., 1.],\n",
            "        [1., 1., 1., 1., 1., 1., 1., 1., 1., 1., 1., 1., 1., 1., 1.]])\n",
            "Adjacency matrix: tensor([[0., 1., 1., 0., 0., 0., 0., 0., 0., 0., 0., 0., 0., 0., 0., 0., 0., 0.,\n",
            "         0., 0.],\n",
            "        [1., 0., 1., 0., 0., 0., 0., 0., 0., 0., 0., 0., 0., 0., 0., 0., 0., 0.,\n",
            "         0., 0.],\n",
            "        [1., 1., 0., 0., 0., 0., 0., 0., 0., 0., 0., 0., 0., 0., 0., 0., 0., 0.,\n",
            "         0., 0.],\n",
            "        [0., 0., 0., 0., 1., 1., 0., 0., 0., 0., 0., 0., 0., 0., 0., 0., 0., 0.,\n",
            "         0., 0.],\n",
            "        [0., 0., 0., 1., 0., 1., 0., 0., 0., 0., 0., 0., 0., 0., 0., 0., 0., 0.,\n",
            "         0., 0.],\n",
            "        [0., 0., 0., 1., 1., 0., 0., 0., 0., 0., 0., 0., 0., 0., 0., 0., 0., 0.,\n",
            "         0., 0.],\n",
            "        [0., 0., 0., 0., 0., 0., 0., 1., 1., 0., 0., 0., 0., 0., 0., 0., 0., 0.,\n",
            "         0., 0.],\n",
            "        [0., 0., 0., 0., 0., 0., 1., 0., 1., 0., 0., 0., 0., 0., 0., 0., 0., 0.,\n",
            "         0., 0.],\n",
            "        [0., 0., 0., 0., 0., 0., 1., 1., 0., 0., 0., 0., 0., 0., 0., 0., 0., 0.,\n",
            "         0., 0.],\n",
            "        [0., 0., 0., 0., 0., 0., 0., 0., 0., 0., 1., 0., 1., 0., 0., 0., 0., 0.,\n",
            "         0., 0.],\n",
            "        [0., 0., 0., 0., 0., 0., 0., 0., 0., 1., 0., 1., 0., 0., 0., 0., 0., 0.,\n",
            "         0., 0.],\n",
            "        [0., 0., 0., 0., 0., 0., 0., 0., 0., 0., 1., 0., 1., 0., 0., 0., 0., 0.,\n",
            "         0., 0.],\n",
            "        [0., 0., 0., 0., 0., 0., 0., 0., 0., 1., 0., 1., 0., 0., 0., 0., 0., 0.,\n",
            "         0., 0.],\n",
            "        [0., 0., 0., 0., 0., 0., 0., 0., 0., 0., 0., 0., 0., 0., 1., 0., 0., 0.,\n",
            "         0., 1.],\n",
            "        [0., 0., 0., 0., 0., 0., 0., 0., 0., 0., 0., 0., 0., 1., 0., 1., 0., 0.,\n",
            "         0., 0.],\n",
            "        [0., 0., 0., 0., 0., 0., 0., 0., 0., 0., 0., 0., 0., 0., 1., 0., 1., 0.,\n",
            "         0., 0.],\n",
            "        [0., 0., 0., 0., 0., 0., 0., 0., 0., 0., 0., 0., 0., 0., 0., 1., 0., 1.,\n",
            "         0., 0.],\n",
            "        [0., 0., 0., 0., 0., 0., 0., 0., 0., 0., 0., 0., 0., 0., 0., 0., 1., 0.,\n",
            "         1., 0.],\n",
            "        [0., 0., 0., 0., 0., 0., 0., 0., 0., 0., 0., 0., 0., 0., 0., 0., 0., 1.,\n",
            "         0., 1.],\n",
            "        [0., 0., 0., 0., 0., 0., 0., 0., 0., 0., 0., 0., 0., 1., 0., 0., 0., 0.,\n",
            "         1., 0.]])\n",
            "Implicit matrx: tensor([[0.0000, 0.0000, 0.0000, 0.0000, 0.0000, 0.0000, 0.0000, 0.0000, 0.0000,\n",
            "         0.0000, 0.0000, 0.0000, 0.0000, 0.0000, 0.0000, 0.0000, 0.0000, 0.0000,\n",
            "         0.0000, 0.0000],\n",
            "        [0.0000, 0.0000, 0.0000, 0.0000, 0.0000, 0.0000, 0.0000, 0.0000, 0.0000,\n",
            "         0.0000, 0.0000, 0.0000, 0.0000, 0.0000, 0.0000, 0.0000, 0.0000, 0.0000,\n",
            "         0.0000, 0.0000],\n",
            "        [0.0000, 0.0000, 0.0000, 0.0000, 0.0000, 0.0000, 0.0000, 0.0000, 0.0000,\n",
            "         0.0000, 0.0000, 0.0000, 0.0000, 0.0000, 0.0000, 0.0000, 0.0000, 0.0000,\n",
            "         0.0000, 0.0000],\n",
            "        [0.0000, 0.0000, 0.0000, 0.0000, 0.0000, 0.0000, 0.0000, 0.0000, 0.0000,\n",
            "         0.0000, 0.0000, 0.0000, 0.0000, 0.0000, 0.0000, 0.0000, 0.0000, 0.0000,\n",
            "         0.0000, 0.0000],\n",
            "        [0.0000, 0.0000, 0.0000, 0.0000, 0.0000, 0.0000, 0.0000, 0.0000, 0.0000,\n",
            "         0.0000, 0.0000, 0.0000, 0.0000, 0.0000, 0.0000, 0.0000, 0.0000, 0.0000,\n",
            "         0.0000, 0.0000],\n",
            "        [0.0000, 0.0000, 0.0000, 0.0000, 0.0000, 0.0000, 0.0000, 0.0000, 0.0000,\n",
            "         0.0000, 0.0000, 0.0000, 0.0000, 0.0000, 0.0000, 0.0000, 0.0000, 0.0000,\n",
            "         0.0000, 0.0000],\n",
            "        [0.0000, 0.0000, 0.0000, 0.0000, 0.0000, 0.0000, 0.0000, 0.0000, 0.0000,\n",
            "         0.0000, 0.0000, 0.0000, 0.0000, 0.0000, 0.0000, 0.0000, 0.0000, 0.0000,\n",
            "         0.0000, 0.0000],\n",
            "        [0.0000, 0.0000, 0.0000, 0.0000, 0.0000, 0.0000, 0.0000, 0.0000, 0.0000,\n",
            "         0.0000, 0.0000, 0.0000, 0.0000, 0.0000, 0.0000, 0.0000, 0.0000, 0.0000,\n",
            "         0.0000, 0.0000],\n",
            "        [0.0000, 0.0000, 0.0000, 0.0000, 0.0000, 0.0000, 0.0000, 0.0000, 0.0000,\n",
            "         0.0000, 0.0000, 0.0000, 0.0000, 0.0000, 0.0000, 0.0000, 0.0000, 0.0000,\n",
            "         0.0000, 0.0000],\n",
            "        [0.0000, 0.0000, 0.0000, 0.0000, 0.0000, 0.0000, 0.0000, 0.0000, 0.0000,\n",
            "         0.0000, 0.0000, 0.8889, 0.0000, 0.0000, 0.0000, 0.0000, 0.0000, 0.0000,\n",
            "         0.0000, 0.0000],\n",
            "        [0.0000, 0.0000, 0.0000, 0.0000, 0.0000, 0.0000, 0.0000, 0.0000, 0.0000,\n",
            "         0.0000, 0.0000, 0.0000, 0.8889, 0.0000, 0.0000, 0.0000, 0.0000, 0.0000,\n",
            "         0.0000, 0.0000],\n",
            "        [0.0000, 0.0000, 0.0000, 0.0000, 0.0000, 0.0000, 0.0000, 0.0000, 0.0000,\n",
            "         0.8889, 0.0000, 0.0000, 0.0000, 0.0000, 0.0000, 0.0000, 0.0000, 0.0000,\n",
            "         0.0000, 0.0000],\n",
            "        [0.0000, 0.0000, 0.0000, 0.0000, 0.0000, 0.0000, 0.0000, 0.0000, 0.0000,\n",
            "         0.0000, 0.8889, 0.0000, 0.0000, 0.0000, 0.0000, 0.0000, 0.0000, 0.0000,\n",
            "         0.0000, 0.0000],\n",
            "        [0.0000, 0.0000, 0.0000, 0.0000, 0.0000, 0.0000, 0.0000, 0.0000, 0.0000,\n",
            "         0.0000, 0.0000, 0.0000, 0.0000, 0.0000, 0.0000, 0.4724, 0.3150, 0.3150,\n",
            "         0.4724, 0.0000],\n",
            "        [0.0000, 0.0000, 0.0000, 0.0000, 0.0000, 0.0000, 0.0000, 0.0000, 0.0000,\n",
            "         0.0000, 0.0000, 0.0000, 0.0000, 0.0000, 0.0000, 0.0000, 0.4724, 0.3150,\n",
            "         0.3150, 0.4724],\n",
            "        [0.0000, 0.0000, 0.0000, 0.0000, 0.0000, 0.0000, 0.0000, 0.0000, 0.0000,\n",
            "         0.0000, 0.0000, 0.0000, 0.0000, 0.4724, 0.0000, 0.0000, 0.0000, 0.4724,\n",
            "         0.3150, 0.3150],\n",
            "        [0.0000, 0.0000, 0.0000, 0.0000, 0.0000, 0.0000, 0.0000, 0.0000, 0.0000,\n",
            "         0.0000, 0.0000, 0.0000, 0.0000, 0.3150, 0.4724, 0.0000, 0.0000, 0.0000,\n",
            "         0.4724, 0.3150],\n",
            "        [0.0000, 0.0000, 0.0000, 0.0000, 0.0000, 0.0000, 0.0000, 0.0000, 0.0000,\n",
            "         0.0000, 0.0000, 0.0000, 0.0000, 0.3150, 0.3150, 0.4724, 0.0000, 0.0000,\n",
            "         0.0000, 0.4724],\n",
            "        [0.0000, 0.0000, 0.0000, 0.0000, 0.0000, 0.0000, 0.0000, 0.0000, 0.0000,\n",
            "         0.0000, 0.0000, 0.0000, 0.0000, 0.4724, 0.3150, 0.3150, 0.4724, 0.0000,\n",
            "         0.0000, 0.0000],\n",
            "        [0.0000, 0.0000, 0.0000, 0.0000, 0.0000, 0.0000, 0.0000, 0.0000, 0.0000,\n",
            "         0.0000, 0.0000, 0.0000, 0.0000, 0.0000, 0.4724, 0.3150, 0.3150, 0.4724,\n",
            "         0.0000, 0.0000]])\n",
            "Connected component matrix: tensor([[0., 0., 0., 0., 0., 0., 0., 0., 0., 0., 0., 0., 0., 0., 0., 0., 0., 0.,\n",
            "         0., 0.],\n",
            "        [0., 0., 0., 0., 0., 0., 0., 0., 0., 0., 0., 0., 0., 0., 0., 0., 0., 0.,\n",
            "         0., 0.],\n",
            "        [0., 0., 0., 0., 0., 0., 0., 0., 0., 0., 0., 0., 0., 0., 0., 0., 0., 0.,\n",
            "         0., 0.],\n",
            "        [0., 0., 0., 0., 0., 0., 0., 0., 0., 0., 0., 0., 0., 0., 0., 0., 0., 0.,\n",
            "         0., 0.],\n",
            "        [0., 0., 0., 0., 0., 0., 0., 0., 0., 0., 0., 0., 0., 0., 0., 0., 0., 0.,\n",
            "         0., 0.],\n",
            "        [0., 0., 0., 0., 0., 0., 0., 0., 0., 0., 0., 0., 0., 0., 0., 0., 0., 0.,\n",
            "         0., 0.],\n",
            "        [0., 0., 0., 0., 0., 0., 0., 0., 0., 0., 0., 0., 0., 0., 0., 0., 0., 0.,\n",
            "         0., 0.],\n",
            "        [0., 0., 0., 0., 0., 0., 0., 0., 0., 0., 0., 0., 0., 0., 0., 0., 0., 0.,\n",
            "         0., 0.],\n",
            "        [0., 0., 0., 0., 0., 0., 0., 0., 0., 0., 0., 0., 0., 0., 0., 0., 0., 0.,\n",
            "         0., 0.],\n",
            "        [0., 0., 0., 0., 0., 0., 0., 0., 0., 0., 0., 1., 0., 0., 0., 0., 0., 0.,\n",
            "         0., 0.],\n",
            "        [0., 0., 0., 0., 0., 0., 0., 0., 0., 0., 0., 0., 1., 0., 0., 0., 0., 0.,\n",
            "         0., 0.],\n",
            "        [0., 0., 0., 0., 0., 0., 0., 0., 0., 1., 0., 0., 0., 0., 0., 0., 0., 0.,\n",
            "         0., 0.],\n",
            "        [0., 0., 0., 0., 0., 0., 0., 0., 0., 0., 1., 0., 0., 0., 0., 0., 0., 0.,\n",
            "         0., 0.],\n",
            "        [0., 0., 0., 0., 0., 0., 0., 0., 0., 0., 0., 0., 0., 0., 0., 1., 1., 1.,\n",
            "         1., 0.],\n",
            "        [0., 0., 0., 0., 0., 0., 0., 0., 0., 0., 0., 0., 0., 0., 0., 0., 1., 1.,\n",
            "         1., 1.],\n",
            "        [0., 0., 0., 0., 0., 0., 0., 0., 0., 0., 0., 0., 0., 1., 0., 0., 0., 1.,\n",
            "         1., 1.],\n",
            "        [0., 0., 0., 0., 0., 0., 0., 0., 0., 0., 0., 0., 0., 1., 1., 0., 0., 0.,\n",
            "         1., 1.],\n",
            "        [0., 0., 0., 0., 0., 0., 0., 0., 0., 0., 0., 0., 0., 1., 1., 1., 0., 0.,\n",
            "         0., 1.],\n",
            "        [0., 0., 0., 0., 0., 0., 0., 0., 0., 0., 0., 0., 0., 1., 1., 1., 1., 0.,\n",
            "         0., 0.],\n",
            "        [0., 0., 0., 0., 0., 0., 0., 0., 0., 0., 0., 0., 0., 0., 1., 1., 1., 1.,\n",
            "         0., 0.]])\n",
            "Class: tensor([0., 0., 0., 0., 1., 0., 0., 0., 0., 0.])\n"
          ]
        },
        {
          "output_type": "display_data",
          "data": {
            "text/plain": [
              "<Figure size 640x480 with 1 Axes>"
            ],
            "image/png": "[encoded data removed]"
          },
          "metadata": {}
        }
      ]
    },
    {
      "cell_type": "code",
      "source": [
        "print(len(dataset))"
      ],
      "metadata": {
        "colab": {
          "base_uri": "https://localhost:8080/"
        },
        "id": "UGtqK3Ozo8JW",
        "outputId": "5f89d871-22cf-418b-8c01-e1b9a421dbdb"
      },
      "execution_count": null,
      "outputs": [
        {
          "output_type": "stream",
          "name": "stdout",
          "text": [
            "1882\n"
          ]
        }
      ]
    },
    {
      "cell_type": "markdown",
      "source": [
        "# Experiments"
      ],
      "metadata": {
        "id": "JOKf-n0NDxsf"
      }
    },
    {
      "cell_type": "markdown",
      "source": [
        "In both the evaluate and train functions, model_type of the inputted model is used to determine which auxillary matrix is used by the model to perform predictions."
      ],
      "metadata": {
        "id": "MD8BR790c-0V"
      }
    },
    {
      "cell_type": "code",
      "source": [
        "def evaluate(model, data):\n",
        "  model.eval()\n",
        "  correct = 0\n",
        "  total = 0\n",
        "  for graph in data:\n",
        "    if model.model_type == 'standard':\n",
        "      aux = None\n",
        "    elif model.model_type == \"implicit\":\n",
        "      aux = graph[\"Impl_mat\"]\n",
        "    elif model.model_type == \"connected\":\n",
        "      aux = graph[\"Comp_mat\"]\n",
        "    pred = model(graph['X'], graph['A'], aux_matrix = aux)\n",
        "    if pred.argmax() == graph['y'].argmax():\n",
        "      correct += 1\n",
        "    total += 1\n",
        "  return correct/total"
      ],
      "metadata": {
        "id": "99e3MMRYYVZS"
      },
      "execution_count": null,
      "outputs": []
    },
    {
      "cell_type": "code",
      "source": [
        "def train(model, data, params, print_every=10, record_accuracies = True, record_every = 10, save_best_model = True, check_best_every = 10):\n",
        "  loss_fn = nn.CrossEntropyLoss()\n",
        "  opt = torch.optim.AdamW(model.parameters(), lr=params[\"learning_rate\"])\n",
        "  if record_accuracies:\n",
        "    accuracies = []\n",
        "    record_epoch_list = []\n",
        "  if save_best_model:\n",
        "    best_model_temp = None\n",
        "    acc_temp = 0\n",
        "    epoch_temp = 0\n",
        "  for epoch in range(params[\"num_epochs\"]):\n",
        "    model.train()\n",
        "    print_epoch = True if epoch % print_every == 0 or epoch == params[\"num_epochs\"]-1 else False\n",
        "    record_epoch = True if record_accuracies and (epoch % record_every == 0 or epoch == params[\"num_epochs\"]-1) else False\n",
        "    check_best_epoch = True if save_best_model and (epoch % check_best_every == 0 or epoch == params[\"num_epochs\"]-1) else False\n",
        "    eval_time = print_epoch or record_epoch or check_best_epoch\n",
        "    if print_epoch:\n",
        "      losses = []\n",
        "    data_batch = random.sample(data, params[\"batch_size\"]) if params[\"batch_shuffle\"] == True else data\n",
        "    for graph in data_batch:\n",
        "        if model.model_type == 'standard':\n",
        "          aux = None\n",
        "        elif model.model_type == \"implicit\":\n",
        "          aux = graph[\"Impl_mat\"]\n",
        "        elif model.model_type == \"connected\":\n",
        "          aux = graph[\"Comp_mat\"]\n",
        "        opt.zero_grad()\n",
        "        pred = model(graph['X'], graph['A'], aux_matrix = aux)\n",
        "        loss = loss_fn(pred, graph['y'])\n",
        "        if print_epoch:\n",
        "          losses.append(loss.item())\n",
        "        loss.backward()\n",
        "        opt.step()\n",
        "    if eval_time:\n",
        "        acc = evaluate(model, data)\n",
        "        if check_best_epoch and (best_model_temp == None or acc >= acc_temp):\n",
        "            acc_temp = acc\n",
        "            best_model_temp = copy.deepcopy(model)\n",
        "            epoch_temp = epoch\n",
        "        if print_epoch:\n",
        "          print(f\"epoch={epoch}, avg loss={sum(losses)/len(losses)}, accuracy={acc}\")\n",
        "        if record_epoch:\n",
        "          accuracies.append(acc)\n",
        "          record_epoch_list.append(epoch)\n",
        "  if save_best_model or record_accuracies:\n",
        "    ret = []\n",
        "    if save_best_model:\n",
        "      ret.append(best_model_temp)\n",
        "      ret.append(epoch_temp)\n",
        "    if record_accuracies:\n",
        "      ret.append(accuracies)\n",
        "      ret.append(record_epoch_list)\n",
        "    return ret"
      ],
      "metadata": {
        "id": "bSo2YoePYFJk"
      },
      "execution_count": null,
      "outputs": []
    },
    {
      "cell_type": "code",
      "source": [
        "standard_model, s_from_epoch, standard_accs, standard_epochs = train(standard_model, dataset, params)"
      ],
      "metadata": {
        "colab": {
          "base_uri": "https://localhost:8080/"
        },
        "id": "a4ALuaJiDhuL",
        "outputId": "86725b51-0f5d-432c-f1ea-2400600cf22a"
      },
      "execution_count": null,
      "outputs": [
        {
          "output_type": "stream",
          "name": "stdout",
          "text": [
            "epoch=0, avg loss=2.334573226292928, accuracy=0.21679064824654623\n",
            "epoch=10, avg loss=1.781818142414093, accuracy=0.2736450584484591\n",
            "epoch=20, avg loss=1.7880013696352641, accuracy=0.2736450584484591\n",
            "epoch=30, avg loss=1.759938505411148, accuracy=0.28002125398512223\n",
            "epoch=40, avg loss=1.7905985450744628, accuracy=0.27683315621679067\n",
            "epoch=50, avg loss=1.7682011168003082, accuracy=0.27683315621679067\n",
            "epoch=60, avg loss=1.7738708214759826, accuracy=0.2747077577045696\n",
            "epoch=70, avg loss=1.7877865071296692, accuracy=0.28374070138150903\n",
            "epoch=80, avg loss=1.7646165203253428, accuracy=0.28374070138150903\n",
            "epoch=90, avg loss=1.7703385162353515, accuracy=0.28374070138150903\n",
            "epoch=100, avg loss=1.7680024700959525, accuracy=0.2821466524973433\n",
            "epoch=110, avg loss=1.770301618417104, accuracy=0.28746014877789583\n",
            "epoch=120, avg loss=1.754766570409139, accuracy=0.28746014877789583\n",
            "epoch=130, avg loss=1.770507360537847, accuracy=0.2895855472901169\n",
            "epoch=140, avg loss=1.7623832324345907, accuracy=0.28905419766206164\n",
            "epoch=150, avg loss=1.7562380867004395, accuracy=0.2858660998937301\n",
            "epoch=160, avg loss=1.750307987133662, accuracy=0.28905419766206164\n",
            "epoch=170, avg loss=1.7450173348585765, accuracy=0.28905419766206164\n",
            "epoch=180, avg loss=1.7366134420235952, accuracy=0.28905419766206164\n",
            "epoch=190, avg loss=1.729995238463084, accuracy=0.28746014877789583\n",
            "epoch=200, avg loss=1.7379376091957093, accuracy=0.28746014877789583\n",
            "epoch=210, avg loss=1.7487520719369252, accuracy=0.28905419766206164\n",
            "epoch=220, avg loss=1.7401091668605804, accuracy=0.2895855472901169\n",
            "epoch=230, avg loss=1.7511402673721312, accuracy=0.29011689691817216\n",
            "epoch=240, avg loss=1.7369525254567464, accuracy=0.29011689691817216\n",
            "epoch=250, avg loss=1.7363545064131418, accuracy=0.28905419766206164\n",
            "epoch=260, avg loss=1.7354373845259348, accuracy=0.2895855472901169\n",
            "epoch=270, avg loss=1.7085289951165517, accuracy=0.2895855472901169\n",
            "epoch=280, avg loss=1.7295488440195719, accuracy=0.28746014877789583\n",
            "epoch=290, avg loss=1.7238977390130361, accuracy=0.2906482465462274\n",
            "epoch=300, avg loss=1.71394376150767, accuracy=0.2917109458023379\n",
            "epoch=310, avg loss=1.700680206934611, accuracy=0.28746014877789583\n",
            "epoch=320, avg loss=1.7164505716959635, accuracy=0.2917109458023379\n",
            "epoch=330, avg loss=1.731740353425344, accuracy=0.2948990435706695\n",
            "epoch=340, avg loss=1.7134518717130025, accuracy=0.29277364505844844\n",
            "epoch=350, avg loss=1.7030536924203237, accuracy=0.2911795961742827\n",
            "epoch=360, avg loss=1.7040157306194306, accuracy=0.2863974495217853\n",
            "epoch=370, avg loss=1.7184793512026468, accuracy=0.29383634431455896\n",
            "epoch=380, avg loss=1.7085305785338083, accuracy=0.29383634431455896\n",
            "epoch=390, avg loss=1.7103527193864188, accuracy=0.29436769394261425\n",
            "epoch=400, avg loss=1.7109935749371847, accuracy=0.29436769394261425\n",
            "epoch=410, avg loss=1.7114360621770224, accuracy=0.2922422954303932\n",
            "epoch=420, avg loss=1.7136829677422842, accuracy=0.29383634431455896\n",
            "epoch=430, avg loss=1.708069957415263, accuracy=0.29383634431455896\n",
            "epoch=440, avg loss=1.6987707869211832, accuracy=0.29383634431455896\n",
            "epoch=450, avg loss=1.7102512532869976, accuracy=0.29383634431455896\n",
            "epoch=460, avg loss=1.7024807717800141, accuracy=0.29383634431455896\n",
            "epoch=470, avg loss=1.7088357441822688, accuracy=0.29383634431455896\n",
            "epoch=480, avg loss=1.7135913536548615, accuracy=0.2948990435706695\n",
            "epoch=490, avg loss=1.7171515229940415, accuracy=0.2922422954303932\n",
            "epoch=499, avg loss=1.7104608528614045, accuracy=0.29383634431455896\n"
          ]
        }
      ]
    },
    {
      "cell_type": "code",
      "source": [
        "implicit_model, i_from_epoch, implicit_accs, implicit_epochs = train(implicit_model, dataset, params)"
      ],
      "metadata": {
        "colab": {
          "base_uri": "https://localhost:8080/"
        },
        "id": "LmHoR9GfDjkZ",
        "outputId": "fe0bc5e4-ee9c-444b-ea00-435a623a6284"
      },
      "execution_count": null,
      "outputs": [
        {
          "output_type": "stream",
          "name": "stdout",
          "text": [
            "epoch=0, avg loss=2.0415773417552314, accuracy=0.34378320935175344\n",
            "epoch=10, avg loss=1.1323952037890752, accuracy=0.5191285866099894\n",
            "epoch=20, avg loss=1.033726703564326, accuracy=0.5488841657810839\n",
            "epoch=30, avg loss=0.9743720439871152, accuracy=0.5749202975557917\n",
            "epoch=40, avg loss=0.961688718477885, accuracy=0.5871413390010627\n",
            "epoch=50, avg loss=0.9232634345988433, accuracy=0.5557917109458024\n",
            "epoch=60, avg loss=0.892634603569905, accuracy=0.59192348565356\n",
            "epoch=70, avg loss=0.873331571171681, accuracy=0.5180658873538788\n",
            "epoch=80, avg loss=0.8451366726656755, accuracy=0.5738575982996812\n",
            "epoch=90, avg loss=0.8448842168202003, accuracy=0.5988310308182784\n",
            "epoch=100, avg loss=0.8199973350663979, accuracy=0.614240170031881\n",
            "epoch=110, avg loss=0.8101751894056797, accuracy=0.6498405951115834\n",
            "epoch=120, avg loss=0.7579833870132764, accuracy=0.5913921360255048\n",
            "epoch=130, avg loss=0.7360874329159657, accuracy=0.6588735387885228\n",
            "epoch=140, avg loss=0.7303029209921758, accuracy=0.6689691817215728\n",
            "epoch=150, avg loss=0.7042686345279217, accuracy=0.6732199787460149\n",
            "epoch=160, avg loss=0.6844664678076903, accuracy=0.7109458023379384\n",
            "epoch=170, avg loss=0.6300258438388506, accuracy=0.7412327311370882\n",
            "epoch=180, avg loss=0.5982320791532596, accuracy=0.7800212539851222\n",
            "epoch=190, avg loss=0.5616303402980168, accuracy=0.7486716259298618\n",
            "epoch=200, avg loss=0.5210880706409613, accuracy=0.8464399574920297\n",
            "epoch=210, avg loss=0.47581364130973813, accuracy=0.8230605738575983\n",
            "epoch=220, avg loss=0.455004749601086, accuracy=0.8645058448459086\n",
            "epoch=230, avg loss=0.4210410524979234, accuracy=0.8746014877789585\n",
            "epoch=240, avg loss=0.3813333252308269, accuracy=0.9309245483528161\n",
            "epoch=250, avg loss=0.3361045143871258, accuracy=0.9070138150903294\n",
            "epoch=260, avg loss=0.3173359708450735, accuracy=0.861317747077577\n",
            "epoch=270, avg loss=0.29592878687009216, accuracy=0.8634431455897981\n",
            "epoch=280, avg loss=0.27918882489732155, accuracy=0.9123273113708821\n",
            "epoch=290, avg loss=0.26734232081503917, accuracy=0.9617428267800212\n",
            "epoch=300, avg loss=0.24934358524344863, accuracy=0.9314558979808714\n",
            "epoch=310, avg loss=0.21588224934600295, accuracy=0.9622741764080766\n",
            "epoch=320, avg loss=0.23625046682885537, accuracy=0.9659936238044633\n",
            "epoch=330, avg loss=0.27325052600353955, accuracy=0.8076514346439958\n",
            "epoch=340, avg loss=0.25009932126570494, accuracy=0.7768331562167906\n",
            "epoch=350, avg loss=0.2226449501660342, accuracy=0.9511158342189161\n",
            "epoch=360, avg loss=0.20935089998102435, accuracy=0.924548352816153\n",
            "epoch=370, avg loss=0.19317419675892838, accuracy=0.9505844845908608\n",
            "epoch=380, avg loss=0.1996952414062495, accuracy=0.803931987247609\n",
            "epoch=390, avg loss=0.2057492038932008, accuracy=0.9458023379383634\n",
            "epoch=400, avg loss=0.19269299490974906, accuracy=0.9590860786397449\n",
            "epoch=410, avg loss=0.16654305547165374, accuracy=0.9543039319872476\n",
            "epoch=420, avg loss=0.18175352978962472, accuracy=0.9675876726886291\n",
            "epoch=430, avg loss=0.1674633050741783, accuracy=0.9436769394261424\n",
            "epoch=440, avg loss=0.16101611916557887, accuracy=0.9553666312433581\n",
            "epoch=450, avg loss=0.18094490329471105, accuracy=0.9176408076514346\n",
            "epoch=460, avg loss=0.16706234566223185, accuracy=0.9776833156216791\n",
            "epoch=470, avg loss=0.15944083387932428, accuracy=0.9707757704569607\n",
            "epoch=480, avg loss=0.17358514051387708, accuracy=0.9782146652497343\n",
            "epoch=490, avg loss=0.15864348339328233, accuracy=0.9149840595111584\n",
            "epoch=499, avg loss=0.15430138847061123, accuracy=0.975557917109458\n"
          ]
        }
      ]
    },
    {
      "cell_type": "code",
      "source": [
        "connected_model, c_from_epoch, connceted_accs, connected_epochs = train(connected_model, dataset, params)"
      ],
      "metadata": {
        "colab": {
          "base_uri": "https://localhost:8080/"
        },
        "id": "M_3w_UiaDmMz",
        "outputId": "d922f872-e95e-437d-9d32-6f269117d2e5"
      },
      "execution_count": null,
      "outputs": [
        {
          "output_type": "stream",
          "name": "stdout",
          "text": [
            "epoch=0, avg loss=2.298110867717032, accuracy=0.23698193411264612\n",
            "epoch=10, avg loss=0.8717394460613529, accuracy=0.6360255047821467\n",
            "epoch=20, avg loss=0.8068547580596059, accuracy=0.6631243358129649\n",
            "epoch=30, avg loss=0.7361181779390705, accuracy=0.6891604675876727\n",
            "epoch=40, avg loss=0.7190878999816874, accuracy=0.6902231668437833\n",
            "epoch=50, avg loss=0.6970467035258189, accuracy=0.6849096705632306\n",
            "epoch=60, avg loss=0.6977899154595409, accuracy=0.6827842720510096\n",
            "epoch=70, avg loss=0.6875495110461488, accuracy=0.6907545164718385\n",
            "epoch=80, avg loss=0.6582434204344948, accuracy=0.6636556854410202\n",
            "epoch=90, avg loss=0.6547454633346448, accuracy=0.6886291179596175\n",
            "epoch=100, avg loss=0.6441203659911019, accuracy=0.7008501594048884\n",
            "epoch=110, avg loss=0.6455662904245159, accuracy=0.6976620616365569\n",
            "epoch=120, avg loss=0.6394834449486807, accuracy=0.6859723698193412\n",
            "epoch=130, avg loss=0.6308738688146696, accuracy=0.7066950053134963\n",
            "epoch=140, avg loss=0.6110402674879103, accuracy=0.7029755579171094\n",
            "epoch=150, avg loss=0.6005841039175478, accuracy=0.70403825717322\n",
            "epoch=160, avg loss=0.5626981494774421, accuracy=0.7093517534537725\n",
            "epoch=170, avg loss=0.5570682708587653, accuracy=0.7332624867162593\n",
            "epoch=180, avg loss=0.562421247618273, accuracy=0.7258235919234857\n",
            "epoch=190, avg loss=0.522766279414917, accuracy=0.7359192348565357\n",
            "epoch=200, avg loss=0.5084640052292185, accuracy=0.7380446333687567\n",
            "epoch=210, avg loss=0.49559514860405274, accuracy=0.7837407013815091\n",
            "epoch=220, avg loss=0.46227522738231347, accuracy=0.7582359192348566\n",
            "epoch=230, avg loss=0.4254399545301738, accuracy=0.8241232731137088\n",
            "epoch=240, avg loss=0.3947303192114826, accuracy=0.8825717321997875\n",
            "epoch=250, avg loss=0.36954378212468003, accuracy=0.8475026567481403\n",
            "epoch=260, avg loss=0.3395071086885961, accuracy=0.8841657810839533\n",
            "epoch=270, avg loss=0.3093903584949547, accuracy=0.9176408076514346\n",
            "epoch=280, avg loss=0.27905085866371643, accuracy=0.9144527098831031\n",
            "epoch=290, avg loss=0.24926655251009167, accuracy=0.946865037194474\n",
            "epoch=300, avg loss=0.2235692377925176, accuracy=0.9649309245483528\n",
            "epoch=310, avg loss=0.19144588018896805, accuracy=0.9287991498405951\n",
            "epoch=320, avg loss=0.178261511261112, accuracy=0.9558979808714134\n",
            "epoch=330, avg loss=0.15797139077436925, accuracy=0.9729011689691818\n",
            "epoch=340, avg loss=0.14138695425576103, accuracy=0.9803400637619554\n",
            "epoch=350, avg loss=0.12282268110134828, accuracy=0.9856535600425079\n",
            "epoch=360, avg loss=0.11335012299256263, accuracy=0.9824654622741764\n",
            "epoch=370, avg loss=0.10247757361440221, accuracy=0.987778958554729\n",
            "epoch=380, avg loss=0.09691252368266032, accuracy=0.9909670563230606\n",
            "epoch=390, avg loss=0.0860945485589165, accuracy=0.9914984059511158\n",
            "epoch=400, avg loss=0.08103702765769362, accuracy=0.9925611052072264\n",
            "epoch=410, avg loss=0.06831439124743914, accuracy=0.9914984059511158\n",
            "epoch=420, avg loss=0.06548024635887244, accuracy=0.9867162592986185\n",
            "epoch=430, avg loss=0.059364355875502345, accuracy=0.9925611052072264\n",
            "epoch=440, avg loss=0.06034530473893212, accuracy=0.9872476089266737\n",
            "epoch=450, avg loss=0.05895761424531133, accuracy=0.9925611052072264\n",
            "epoch=460, avg loss=0.05575056741858644, accuracy=0.9936238044633369\n",
            "epoch=470, avg loss=0.049760854433680606, accuracy=0.9941551540913921\n",
            "epoch=480, avg loss=0.04882663172664527, accuracy=0.9936238044633369\n",
            "epoch=490, avg loss=0.04475110641027474, accuracy=0.9936238044633369\n",
            "epoch=499, avg loss=0.040015083617609824, accuracy=0.9930924548352816\n"
          ]
        }
      ]
    },
    {
      "cell_type": "markdown",
      "source": [
        "We save our trained models."
      ],
      "metadata": {
        "id": "MtWo-5Oedy9F"
      }
    },
    {
      "cell_type": "code",
      "source": [
        "from google.colab import drive\n",
        "drive.mount('/content/gdrive')"
      ],
      "metadata": {
        "colab": {
          "base_uri": "https://localhost:8080/"
        },
        "id": "zSVRrFznSLzA",
        "outputId": "b1ca81e1-341e-491f-e0ba-06acfe689ce3"
      },
      "execution_count": null,
      "outputs": [
        {
          "output_type": "stream",
          "name": "stdout",
          "text": [
            "Mounted at /content/gdrive\n"
          ]
        }
      ]
    },
    {
      "cell_type": "code",
      "source": [
        "torch.save(standard_model.state_dict(), \"/content/gdrive/My Drive/{standard_model_params2}\")"
      ],
      "metadata": {
        "id": "fXk9UszIRWMJ"
      },
      "execution_count": null,
      "outputs": []
    },
    {
      "cell_type": "code",
      "source": [
        "torch.save(implicit_model.state_dict(), \"/content/gdrive/My Drive/{implicit_model_params2}\")"
      ],
      "metadata": {
        "id": "gwkkwgBaistn"
      },
      "execution_count": null,
      "outputs": []
    },
    {
      "cell_type": "code",
      "source": [
        "torch.save(connected_model.state_dict(), \"/content/gdrive/My Drive/{connected_model_params2}\")"
      ],
      "metadata": {
        "id": "NuVDOeGViuu5"
      },
      "execution_count": null,
      "outputs": []
    },
    {
      "cell_type": "markdown",
      "source": [
        "We print the highest accuracies achieved by each model, along with the epoch that this accuracy is achieved at."
      ],
      "metadata": {
        "id": "jBM8bk4gRKdk"
      }
    },
    {
      "cell_type": "code",
      "source": [
        "print(evaluate(standard_model, dataset))\n",
        "print(s_from_epoch)"
      ],
      "metadata": {
        "colab": {
          "base_uri": "https://localhost:8080/"
        },
        "id": "EdzR38U5Qrmc",
        "outputId": "6dec9e94-e3ef-4c97-b113-905c999a7f7e"
      },
      "execution_count": null,
      "outputs": [
        {
          "output_type": "stream",
          "name": "stdout",
          "text": [
            "0.2948990435706695\n",
            "480\n"
          ]
        }
      ]
    },
    {
      "cell_type": "code",
      "source": [
        "print(evaluate(implicit_model, dataset))\n",
        "print(i_from_epoch)"
      ],
      "metadata": {
        "colab": {
          "base_uri": "https://localhost:8080/"
        },
        "id": "GjNB_QheQ4f1",
        "outputId": "51578e7a-86ac-48cf-9456-3adb1aeb722c"
      },
      "execution_count": null,
      "outputs": [
        {
          "output_type": "stream",
          "name": "stdout",
          "text": [
            "0.9782146652497343\n",
            "480\n"
          ]
        }
      ]
    },
    {
      "cell_type": "code",
      "source": [
        "print(evaluate(connected_model, dataset))\n",
        "print(c_from_epoch)"
      ],
      "metadata": {
        "colab": {
          "base_uri": "https://localhost:8080/"
        },
        "id": "wBg1iJ8vQ9U2",
        "outputId": "c7381fc3-3804-4a67-8302-9b8ca757f304"
      },
      "execution_count": null,
      "outputs": [
        {
          "output_type": "stream",
          "name": "stdout",
          "text": [
            "0.9941551540913921\n",
            "470\n"
          ]
        }
      ]
    },
    {
      "cell_type": "markdown",
      "source": [
        "# Results"
      ],
      "metadata": {
        "id": "DyVWpUhLfhf0"
      }
    },
    {
      "cell_type": "markdown",
      "source": [
        "We plot accuracies for each model"
      ],
      "metadata": {
        "id": "pFfSk9k6fcJw"
      }
    },
    {
      "cell_type": "code",
      "source": [
        "plt.plot(standard_epochs, standard_accs, marker='o', linestyle='-', color='blue', label='Line Plot')\n",
        "plt.title('Accuracy of Standard Model')\n",
        "plt.xlabel('Epoch')\n",
        "plt.ylabel('Accuracy')\n",
        "plt.ylim(0, 1)\n",
        "\n",
        "plt.show()"
      ],
      "metadata": {
        "colab": {
          "base_uri": "https://localhost:8080/",
          "height": 472
        },
        "id": "B2KGg8AcfkBL",
        "outputId": "794dc2b5-ccc8-4d40-d586-9d059672631e"
      },
      "execution_count": null,
      "outputs": [
        {
          "output_type": "display_data",
          "data": {
            "text/plain": [
              "<Figure size 640x480 with 1 Axes>"
            ],
            "image/png": "[encoded data removed]"
          },
          "metadata": {}
        }
      ]
    },
    {
      "cell_type": "code",
      "source": [
        "plt.plot(implicit_epochs, implicit_accs, marker='o', linestyle='-', color='blue', label='Line Plot')\n",
        "plt.title('Accuracy of Implicit Model')\n",
        "plt.xlabel('Epoch')\n",
        "plt.ylabel('Accuracy')\n",
        "\n",
        "plt.show()"
      ],
      "metadata": {
        "colab": {
          "base_uri": "https://localhost:8080/",
          "height": 472
        },
        "id": "wl71uoZcgiBr",
        "outputId": "19105a3f-5153-49ec-de42-bbfa9f298331"
      },
      "execution_count": null,
      "outputs": [
        {
          "output_type": "display_data",
          "data": {
            "text/plain": [
              "<Figure size 640x480 with 1 Axes>"
            ],
            "image/png": "[encoded data removed]"
          },
          "metadata": {}
        }
      ]
    },
    {
      "cell_type": "code",
      "source": [
        "plt.plot(connected_epochs, connceted_accs, marker='o', linestyle='-', color='blue', label='Line Plot')\n",
        "plt.title('Accuracy of Connected Model')\n",
        "plt.xlabel('Epoch')\n",
        "plt.ylabel('Accuracy')\n",
        "\n",
        "plt.show()"
      ],
      "metadata": {
        "colab": {
          "base_uri": "https://localhost:8080/",
          "height": 472
        },
        "id": "mb_jZ8-vgnwv",
        "outputId": "7b0e8aea-5ccb-4b3f-8481-158442b3766c"
      },
      "execution_count": null,
      "outputs": [
        {
          "output_type": "display_data",
          "data": {
            "text/plain": [
              "<Figure size 640x480 with 1 Axes>"
            ],
            "image/png": "[encoded data removed]"
          },
          "metadata": {}
        }
      ]
    },
    {
      "cell_type": "markdown",
      "source": [
        "We check what predictions the standard_model is making for each n."
      ],
      "metadata": {
        "id": "b4-8IxbQfQEj"
      }
    },
    {
      "cell_type": "code",
      "source": [
        "def check_model_for_each_n(n_start, n_end, model):\n",
        "  model.eval()\n",
        "  pred_for_all_N = []\n",
        "  Nlist = []\n",
        "  for N in range(n_start, n_end+1):\n",
        "    Ndata, _, Nclass_dist = gen_cycle_dataset(N,N, d=params[\"input_dim\"])\n",
        "    Nlength = len(Ndata)\n",
        "    most_class = torch.argmax(Nclass_dist, dim=0)\n",
        "    pred = []\n",
        "    for graph in Ndata:\n",
        "      if model.model_type == 'standard':\n",
        "        aux = None\n",
        "      elif model.model_type == \"implicit\":\n",
        "        aux = graph[\"Impl_mat\"]\n",
        "      elif model.model_type == \"connected\":\n",
        "        aux = graph[\"Comp_mat\"]\n",
        "      pred.append(model(graph['X'], graph['A'], aux_matrix = aux))\n",
        "    all_identical = all(torch.equal(pred[0], row) for row in pred)\n",
        "    if all_identical:\n",
        "      pred_for_all_N.append((torch.argmax(pred[0], dim=0)).item()+1)\n",
        "      print(f'Model predicts {torch.argmax(pred[0], dim=0)+1} connected components for all graphs on {N} nodes, while the plurality of graphs on {N} nodes have {most_class+1} components')\n",
        "    else:\n",
        "      pred_for_all_N.append(-1)\n",
        "      print(f'Model can distinguish predictions for certain graphs on {N} nodes')\n",
        "    Nlist.append(N)\n",
        "  return pred_for_all_N, Nlist\n"
      ],
      "metadata": {
        "id": "GDkYKdrQsY0Z"
      },
      "execution_count": null,
      "outputs": []
    },
    {
      "cell_type": "markdown",
      "source": [
        "Note that our function above breaks ties when determining the plurality class by simply choosing the class with lower index; this may mislead us into thinking the model predictions disagree with the plurality when in reality they do not."
      ],
      "metadata": {
        "id": "qRyUR-XIolX6"
      }
    },
    {
      "cell_type": "code",
      "source": [
        "preds_for_all_N, Nlist = check_model_for_each_n(6,30, standard_model)"
      ],
      "metadata": {
        "colab": {
          "base_uri": "https://localhost:8080/"
        },
        "id": "P1kP83fivaBC",
        "outputId": "c4c3c759-4fa1-4cd2-8ca9-c58c88a82023"
      },
      "execution_count": null,
      "outputs": [
        {
          "output_type": "stream",
          "name": "stdout",
          "text": [
            "Model predicts 2 connected components for all graphs on 6 nodes, while the plurality of graphs on 6 nodes have 1 components\n",
            "Model predicts 2 connected components for all graphs on 7 nodes, while the plurality of graphs on 7 nodes have 1 components\n",
            "Model predicts 2 connected components for all graphs on 8 nodes, while the plurality of graphs on 8 nodes have 2 components\n",
            "Model predicts 2 connected components for all graphs on 9 nodes, while the plurality of graphs on 9 nodes have 2 components\n",
            "Model predicts 2 connected components for all graphs on 10 nodes, while the plurality of graphs on 10 nodes have 2 components\n",
            "Model predicts 2 connected components for all graphs on 11 nodes, while the plurality of graphs on 11 nodes have 2 components\n",
            "Model predicts 2 connected components for all graphs on 12 nodes, while the plurality of graphs on 12 nodes have 2 components\n",
            "Model predicts 2 connected components for all graphs on 13 nodes, while the plurality of graphs on 13 nodes have 2 components\n",
            "Model predicts 3 connected components for all graphs on 14 nodes, while the plurality of graphs on 14 nodes have 2 components\n",
            "Model predicts 3 connected components for all graphs on 15 nodes, while the plurality of graphs on 15 nodes have 3 components\n",
            "Model predicts 3 connected components for all graphs on 16 nodes, while the plurality of graphs on 16 nodes have 3 components\n",
            "Model predicts 3 connected components for all graphs on 17 nodes, while the plurality of graphs on 17 nodes have 3 components\n",
            "Model predicts 3 connected components for all graphs on 18 nodes, while the plurality of graphs on 18 nodes have 3 components\n",
            "Model predicts 3 connected components for all graphs on 19 nodes, while the plurality of graphs on 19 nodes have 3 components\n",
            "Model predicts 3 connected components for all graphs on 20 nodes, while the plurality of graphs on 20 nodes have 3 components\n",
            "Model predicts 3 connected components for all graphs on 21 nodes, while the plurality of graphs on 21 nodes have 3 components\n",
            "Model predicts 4 connected components for all graphs on 22 nodes, while the plurality of graphs on 22 nodes have 4 components\n",
            "Model predicts 4 connected components for all graphs on 23 nodes, while the plurality of graphs on 23 nodes have 4 components\n",
            "Model predicts 4 connected components for all graphs on 24 nodes, while the plurality of graphs on 24 nodes have 4 components\n",
            "Model predicts 4 connected components for all graphs on 25 nodes, while the plurality of graphs on 25 nodes have 4 components\n",
            "Model predicts 4 connected components for all graphs on 26 nodes, while the plurality of graphs on 26 nodes have 4 components\n",
            "Model predicts 4 connected components for all graphs on 27 nodes, while the plurality of graphs on 27 nodes have 4 components\n",
            "Model predicts 4 connected components for all graphs on 28 nodes, while the plurality of graphs on 28 nodes have 4 components\n",
            "Model predicts 4 connected components for all graphs on 29 nodes, while the plurality of graphs on 29 nodes have 4 components\n",
            "Model predicts 4 connected components for all graphs on 30 nodes, while the plurality of graphs on 30 nodes have 4 components\n"
          ]
        }
      ]
    },
    {
      "cell_type": "code",
      "source": [
        "plt.scatter(Nlist, preds_for_all_N, color='blue', label='Scatter Plot')\n",
        "plt.title('Standard Model Predictions for Each Graph Size')\n",
        "plt.xlabel('Number of Nodes')\n",
        "plt.ylabel('Predicted Number of Connected Components')\n",
        "plt.xticks(range(min(Nlist), max(Nlist) + 1))\n",
        "plt.yticks(range(min(preds_for_all_N), max(preds_for_all_N) + 1))\n",
        "plt.show()"
      ],
      "metadata": {
        "colab": {
          "base_uri": "https://localhost:8080/",
          "height": 472
        },
        "id": "5C7mWFuiGeCr",
        "outputId": "e42c427c-de4c-477c-eafe-49ee537a1af0"
      },
      "execution_count": null,
      "outputs": [
        {
          "output_type": "display_data",
          "data": {
            "text/plain": [
              "<Figure size 640x480 with 1 Axes>"
            ],
            "image/png": "[encoded data removed]"
          },
          "metadata": {}
        }
      ]
    }
  ]
}